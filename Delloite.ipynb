{
 "cells": [
  {
   "cell_type": "code",
   "execution_count": 1,
   "metadata": {
    "collapsed": true
   },
   "outputs": [],
   "source": [
    "import numpy as numpy\n",
    "import pandas as pd"
   ]
  },
  {
   "cell_type": "code",
   "execution_count": 2,
   "metadata": {
    "collapsed": true
   },
   "outputs": [],
   "source": [
    "df=pd.read_csv(\"Delo.csv\")"
   ]
  },
  {
   "cell_type": "code",
   "execution_count": 3,
   "metadata": {
    "scrolled": true
   },
   "outputs": [
    {
     "name": "stdout",
     "output_type": "stream",
     "text": [
      "<class 'pandas.core.frame.DataFrame'>\n",
      "RangeIndex: 5 entries, 0 to 4\n",
      "Data columns (total 29 columns):\n",
      "Unnamed: 0    5 non-null object\n",
      "PL1-0         5 non-null float64\n",
      "PL2-0         5 non-null float64\n",
      "PL3-0         5 non-null float64\n",
      "PL4-0         5 non-null float64\n",
      "PL1-1         5 non-null float64\n",
      "PL2-1         5 non-null float64\n",
      "PL3-1         5 non-null float64\n",
      "PL4-1         5 non-null float64\n",
      "PL1-2         5 non-null float64\n",
      "PL2-2         5 non-null float64\n",
      "PL3-2         5 non-null float64\n",
      "PL4-2         5 non-null float64\n",
      "PL1-3         5 non-null float64\n",
      "PL2-3         5 non-null float64\n",
      "PL3-3         5 non-null float64\n",
      "PL4-3         5 non-null float64\n",
      "PL1-4         5 non-null float64\n",
      "PL2-4         5 non-null float64\n",
      "PL3-4         5 non-null float64\n",
      "PL4-4         5 non-null float64\n",
      "PL1-5         5 non-null float64\n",
      "PL2-5         5 non-null float64\n",
      "PL3-5         5 non-null float64\n",
      "PL4-5         5 non-null float64\n",
      "PL1-6         5 non-null float64\n",
      "PL2-6         5 non-null float64\n",
      "PL3-6         5 non-null float64\n",
      "PL4-6         5 non-null float64\n",
      "dtypes: float64(28), object(1)\n",
      "memory usage: 1.2+ KB\n"
     ]
    }
   ],
   "source": [
    "df.shape\n",
    "df.info()\n"
   ]
  },
  {
   "cell_type": "code",
   "execution_count": 4,
   "metadata": {},
   "outputs": [
    {
     "data": {
      "text/html": [
       "<div>\n",
       "<style>\n",
       "    .dataframe thead tr:only-child th {\n",
       "        text-align: right;\n",
       "    }\n",
       "\n",
       "    .dataframe thead th {\n",
       "        text-align: left;\n",
       "    }\n",
       "\n",
       "    .dataframe tbody tr th {\n",
       "        vertical-align: top;\n",
       "    }\n",
       "</style>\n",
       "<table border=\"1\" class=\"dataframe\">\n",
       "  <thead>\n",
       "    <tr style=\"text-align: right;\">\n",
       "      <th></th>\n",
       "      <th>PL1-0</th>\n",
       "      <th>PL2-0</th>\n",
       "      <th>PL3-0</th>\n",
       "      <th>PL4-0</th>\n",
       "      <th>PL1-1</th>\n",
       "      <th>PL2-1</th>\n",
       "      <th>PL3-1</th>\n",
       "      <th>PL4-1</th>\n",
       "      <th>PL1-2</th>\n",
       "      <th>PL2-2</th>\n",
       "      <th>...</th>\n",
       "      <th>PL3-4</th>\n",
       "      <th>PL4-4</th>\n",
       "      <th>PL1-5</th>\n",
       "      <th>PL2-5</th>\n",
       "      <th>PL3-5</th>\n",
       "      <th>PL4-5</th>\n",
       "      <th>PL1-6</th>\n",
       "      <th>PL2-6</th>\n",
       "      <th>PL3-6</th>\n",
       "      <th>PL4-6</th>\n",
       "    </tr>\n",
       "  </thead>\n",
       "  <tbody>\n",
       "    <tr>\n",
       "      <th>count</th>\n",
       "      <td>5.000000</td>\n",
       "      <td>5.000000</td>\n",
       "      <td>5.000000</td>\n",
       "      <td>5.000000</td>\n",
       "      <td>5.000000</td>\n",
       "      <td>5.000000</td>\n",
       "      <td>5.000000</td>\n",
       "      <td>5.000000</td>\n",
       "      <td>5.00000</td>\n",
       "      <td>5.000000</td>\n",
       "      <td>...</td>\n",
       "      <td>5.00000</td>\n",
       "      <td>5.000000</td>\n",
       "      <td>5.000000</td>\n",
       "      <td>5.000000</td>\n",
       "      <td>5.000000</td>\n",
       "      <td>5.000000</td>\n",
       "      <td>5.000000</td>\n",
       "      <td>5.000000</td>\n",
       "      <td>5.000000</td>\n",
       "      <td>5.000000</td>\n",
       "    </tr>\n",
       "    <tr>\n",
       "      <th>mean</th>\n",
       "      <td>9.282000</td>\n",
       "      <td>7.022000</td>\n",
       "      <td>9.552000</td>\n",
       "      <td>5.414000</td>\n",
       "      <td>9.170000</td>\n",
       "      <td>7.100000</td>\n",
       "      <td>9.364400</td>\n",
       "      <td>6.420800</td>\n",
       "      <td>9.20200</td>\n",
       "      <td>6.940000</td>\n",
       "      <td>...</td>\n",
       "      <td>9.44100</td>\n",
       "      <td>5.778800</td>\n",
       "      <td>9.228200</td>\n",
       "      <td>6.833600</td>\n",
       "      <td>9.520000</td>\n",
       "      <td>5.526000</td>\n",
       "      <td>9.210800</td>\n",
       "      <td>6.982000</td>\n",
       "      <td>9.492800</td>\n",
       "      <td>5.496000</td>\n",
       "    </tr>\n",
       "    <tr>\n",
       "      <th>std</th>\n",
       "      <td>2.047137</td>\n",
       "      <td>1.163838</td>\n",
       "      <td>0.506626</td>\n",
       "      <td>1.022756</td>\n",
       "      <td>2.090036</td>\n",
       "      <td>1.262795</td>\n",
       "      <td>0.943243</td>\n",
       "      <td>2.019122</td>\n",
       "      <td>2.01259</td>\n",
       "      <td>1.275461</td>\n",
       "      <td>...</td>\n",
       "      <td>0.47645</td>\n",
       "      <td>1.057193</td>\n",
       "      <td>1.943663</td>\n",
       "      <td>1.394494</td>\n",
       "      <td>0.489643</td>\n",
       "      <td>1.028411</td>\n",
       "      <td>1.901545</td>\n",
       "      <td>1.294882</td>\n",
       "      <td>0.474003</td>\n",
       "      <td>1.004306</td>\n",
       "    </tr>\n",
       "    <tr>\n",
       "      <th>min</th>\n",
       "      <td>5.690000</td>\n",
       "      <td>5.690000</td>\n",
       "      <td>8.680000</td>\n",
       "      <td>4.560000</td>\n",
       "      <td>5.460000</td>\n",
       "      <td>5.570000</td>\n",
       "      <td>7.680000</td>\n",
       "      <td>4.600000</td>\n",
       "      <td>5.74000</td>\n",
       "      <td>5.360000</td>\n",
       "      <td>...</td>\n",
       "      <td>8.65000</td>\n",
       "      <td>4.570000</td>\n",
       "      <td>5.841000</td>\n",
       "      <td>5.148000</td>\n",
       "      <td>8.670000</td>\n",
       "      <td>4.550000</td>\n",
       "      <td>5.874000</td>\n",
       "      <td>5.480000</td>\n",
       "      <td>8.670000</td>\n",
       "      <td>4.590000</td>\n",
       "    </tr>\n",
       "    <tr>\n",
       "      <th>25%</th>\n",
       "      <td>9.630000</td>\n",
       "      <td>5.980000</td>\n",
       "      <td>9.630000</td>\n",
       "      <td>4.590000</td>\n",
       "      <td>9.850000</td>\n",
       "      <td>5.980000</td>\n",
       "      <td>9.730000</td>\n",
       "      <td>4.750000</td>\n",
       "      <td>9.44000</td>\n",
       "      <td>5.840000</td>\n",
       "      <td>...</td>\n",
       "      <td>9.36000</td>\n",
       "      <td>4.874000</td>\n",
       "      <td>9.630000</td>\n",
       "      <td>5.590000</td>\n",
       "      <td>9.600000</td>\n",
       "      <td>4.850000</td>\n",
       "      <td>9.680000</td>\n",
       "      <td>5.730000</td>\n",
       "      <td>9.560000</td>\n",
       "      <td>4.860000</td>\n",
       "    </tr>\n",
       "    <tr>\n",
       "      <th>50%</th>\n",
       "      <td>9.980000</td>\n",
       "      <td>7.400000</td>\n",
       "      <td>9.680000</td>\n",
       "      <td>4.870000</td>\n",
       "      <td>9.870000</td>\n",
       "      <td>7.580000</td>\n",
       "      <td>9.742000</td>\n",
       "      <td>6.300000</td>\n",
       "      <td>9.60000</td>\n",
       "      <td>7.400000</td>\n",
       "      <td>...</td>\n",
       "      <td>9.61000</td>\n",
       "      <td>5.800000</td>\n",
       "      <td>9.650000</td>\n",
       "      <td>7.450000</td>\n",
       "      <td>9.630000</td>\n",
       "      <td>4.950000</td>\n",
       "      <td>9.680000</td>\n",
       "      <td>7.500000</td>\n",
       "      <td>9.650000</td>\n",
       "      <td>4.880000</td>\n",
       "    </tr>\n",
       "    <tr>\n",
       "      <th>75%</th>\n",
       "      <td>10.480000</td>\n",
       "      <td>7.560000</td>\n",
       "      <td>9.780000</td>\n",
       "      <td>6.450000</td>\n",
       "      <td>10.190000</td>\n",
       "      <td>7.870000</td>\n",
       "      <td>9.800000</td>\n",
       "      <td>6.874000</td>\n",
       "      <td>10.55000</td>\n",
       "      <td>7.800000</td>\n",
       "      <td>...</td>\n",
       "      <td>9.78500</td>\n",
       "      <td>6.800000</td>\n",
       "      <td>10.430000</td>\n",
       "      <td>7.580000</td>\n",
       "      <td>9.840000</td>\n",
       "      <td>6.580000</td>\n",
       "      <td>10.330000</td>\n",
       "      <td>7.860000</td>\n",
       "      <td>9.710000</td>\n",
       "      <td>6.350000</td>\n",
       "    </tr>\n",
       "    <tr>\n",
       "      <th>max</th>\n",
       "      <td>10.630000</td>\n",
       "      <td>8.480000</td>\n",
       "      <td>9.990000</td>\n",
       "      <td>6.600000</td>\n",
       "      <td>10.480000</td>\n",
       "      <td>8.500000</td>\n",
       "      <td>9.870000</td>\n",
       "      <td>9.580000</td>\n",
       "      <td>10.68000</td>\n",
       "      <td>8.300000</td>\n",
       "      <td>...</td>\n",
       "      <td>9.80000</td>\n",
       "      <td>6.850000</td>\n",
       "      <td>10.590000</td>\n",
       "      <td>8.400000</td>\n",
       "      <td>9.860000</td>\n",
       "      <td>6.700000</td>\n",
       "      <td>10.490000</td>\n",
       "      <td>8.340000</td>\n",
       "      <td>9.874000</td>\n",
       "      <td>6.800000</td>\n",
       "    </tr>\n",
       "  </tbody>\n",
       "</table>\n",
       "<p>8 rows × 28 columns</p>\n",
       "</div>"
      ],
      "text/plain": [
       "           PL1-0     PL2-0     PL3-0     PL4-0      PL1-1     PL2-1     PL3-1  \\\n",
       "count   5.000000  5.000000  5.000000  5.000000   5.000000  5.000000  5.000000   \n",
       "mean    9.282000  7.022000  9.552000  5.414000   9.170000  7.100000  9.364400   \n",
       "std     2.047137  1.163838  0.506626  1.022756   2.090036  1.262795  0.943243   \n",
       "min     5.690000  5.690000  8.680000  4.560000   5.460000  5.570000  7.680000   \n",
       "25%     9.630000  5.980000  9.630000  4.590000   9.850000  5.980000  9.730000   \n",
       "50%     9.980000  7.400000  9.680000  4.870000   9.870000  7.580000  9.742000   \n",
       "75%    10.480000  7.560000  9.780000  6.450000  10.190000  7.870000  9.800000   \n",
       "max    10.630000  8.480000  9.990000  6.600000  10.480000  8.500000  9.870000   \n",
       "\n",
       "          PL4-1     PL1-2     PL2-2    ...       PL3-4     PL4-4      PL1-5  \\\n",
       "count  5.000000   5.00000  5.000000    ...     5.00000  5.000000   5.000000   \n",
       "mean   6.420800   9.20200  6.940000    ...     9.44100  5.778800   9.228200   \n",
       "std    2.019122   2.01259  1.275461    ...     0.47645  1.057193   1.943663   \n",
       "min    4.600000   5.74000  5.360000    ...     8.65000  4.570000   5.841000   \n",
       "25%    4.750000   9.44000  5.840000    ...     9.36000  4.874000   9.630000   \n",
       "50%    6.300000   9.60000  7.400000    ...     9.61000  5.800000   9.650000   \n",
       "75%    6.874000  10.55000  7.800000    ...     9.78500  6.800000  10.430000   \n",
       "max    9.580000  10.68000  8.300000    ...     9.80000  6.850000  10.590000   \n",
       "\n",
       "          PL2-5     PL3-5     PL4-5      PL1-6     PL2-6     PL3-6     PL4-6  \n",
       "count  5.000000  5.000000  5.000000   5.000000  5.000000  5.000000  5.000000  \n",
       "mean   6.833600  9.520000  5.526000   9.210800  6.982000  9.492800  5.496000  \n",
       "std    1.394494  0.489643  1.028411   1.901545  1.294882  0.474003  1.004306  \n",
       "min    5.148000  8.670000  4.550000   5.874000  5.480000  8.670000  4.590000  \n",
       "25%    5.590000  9.600000  4.850000   9.680000  5.730000  9.560000  4.860000  \n",
       "50%    7.450000  9.630000  4.950000   9.680000  7.500000  9.650000  4.880000  \n",
       "75%    7.580000  9.840000  6.580000  10.330000  7.860000  9.710000  6.350000  \n",
       "max    8.400000  9.860000  6.700000  10.490000  8.340000  9.874000  6.800000  \n",
       "\n",
       "[8 rows x 28 columns]"
      ]
     },
     "execution_count": 4,
     "metadata": {},
     "output_type": "execute_result"
    }
   ],
   "source": [
    "df.describe()"
   ]
  },
  {
   "cell_type": "code",
   "execution_count": 5,
   "metadata": {},
   "outputs": [
    {
     "data": {
      "text/plain": [
       "(5, 29)"
      ]
     },
     "execution_count": 5,
     "metadata": {},
     "output_type": "execute_result"
    }
   ],
   "source": [
    "df.shape"
   ]
  },
  {
   "cell_type": "code",
   "execution_count": 6,
   "metadata": {
    "collapsed": true
   },
   "outputs": [],
   "source": [
    "def pre():\n",
    "    global PL17  #PRIORITY_LOAD_1 On Day7\n",
    "    global PL27  #PRIORITY_LOAD_2 On Day7\n",
    "    global PL37  #PRIORITY_LOAD_3 On Day7\n",
    "    global PL47  #PRIORITY_LOAD_4 On Day7\n",
    "    global required_power # Predicted Power on On Day 7 using Simple Linear Regression\n",
    "    global generated_power #Generated Power On Day 7\n",
    "    global deficit #Deficit on Day 7\n",
    "    PL17=(df['PL1-0']+df['PL1-1']+df['PL1-2']+df['PL1-3']+df['PL1-4']+df['PL1-5']+df['PL1-6'])/((df.shape[1]-1)/4)\n",
    "    PL27=(df['PL2-0']+df['PL2-1']+df['PL2-2']+df['PL2-3']+df['PL2-4']+df['PL2-5']+df['PL2-6'])/((df.shape[1]-1)/4)\n",
    "    PL37=(df['PL2-0']+df['PL3-1']+df['PL4-2']+df['PL3-3']+df['PL3-4']+df['PL3-5']+df['PL3-6'])/((df.shape[1]-1)/4)\n",
    "    PL47=(df['PL4-0']+df['PL4-1']+df['PL4-2']+df['PL4-3']+df['PL4-4']+df['PL4-5']+df['PL4-6'])/((df.shape[1]-2)/4)\n",
    "    required_power=sum(PL17+PL27+PL37+PL47)\n",
    "pre()"
   ]
  },
  {
   "cell_type": "code",
   "execution_count": 7,
   "metadata": {},
   "outputs": [
    {
     "name": "stdout",
     "output_type": "stream",
     "text": [
      "The Predicted load on day 7 is: \n",
      "46.1841428571\n",
      "34.7794285714\n",
      "42.6531714286\n",
      "29.2651851852\n",
      "The required Power will be: 152.881928042\n"
     ]
    }
   ],
   "source": [
    "def output():\n",
    "    print(\"The Predicted load on day 7 is: \")\n",
    "    print(sum(PL17))\n",
    "    print(sum(PL27))\n",
    "    print(sum(PL37))\n",
    "    print(sum(PL47))\n",
    "    print(\"The required Power will be:\",required_power)\n",
    "output()"
   ]
  },
  {
   "cell_type": "code",
   "execution_count": 8,
   "metadata": {},
   "outputs": [
    {
     "name": "stdout",
     "output_type": "stream",
     "text": [
      "Enter the Generated Power50\n",
      "The Deficit is: 102.881928042\n"
     ]
    }
   ],
   "source": [
    "generated_power=input(\"Enter the Generated Power\")\n",
    "deficit=required_power-float(generated_power)\n",
    "print(\"The Deficit is:\" , deficit)"
   ]
  },
  {
   "cell_type": "code",
   "execution_count": 9,
   "metadata": {},
   "outputs": [
    {
     "name": "stdout",
     "output_type": "stream",
     "text": [
      "Cut the P2,P3 and P4 Load\n"
     ]
    }
   ],
   "source": [
    "def solve():\n",
    "    if(deficit>0):\n",
    "        if(sum(PL47)>deficit):\n",
    "            print(\"Cut the P4 Load\")\n",
    "        elif ((sum(PL47)+sum(PL37))>deficit):\n",
    "            print(\"Cut the P3 Load and P4 LOAD\")\n",
    "        elif ((sum(PL47)+sum(PL37)+sum(PL27))>deficit):\n",
    "            print(\"Cut the P2,P3 and P4 Load\")\n",
    "        else:\n",
    "            print(\"Cant stop Outage\")\n",
    "    else:\n",
    "        print(\"No Outage! Enjoy the Power:)\")\n",
    "solve() "
   ]
  },
  {
   "cell_type": "code",
   "execution_count": null,
   "metadata": {
    "collapsed": true
   },
   "outputs": [],
   "source": []
  },
  {
   "cell_type": "code",
   "execution_count": null,
   "metadata": {
    "collapsed": true
   },
   "outputs": [],
   "source": []
  }
 ],
 "metadata": {
  "kernelspec": {
   "display_name": "Python 3",
   "language": "python",
   "name": "python3"
  },
  "language_info": {
   "codemirror_mode": {
    "name": "ipython",
    "version": 3
   },
   "file_extension": ".py",
   "mimetype": "text/x-python",
   "name": "python",
   "nbconvert_exporter": "python",
   "pygments_lexer": "ipython3",
   "version": "3.6.1"
  }
 },
 "nbformat": 4,
 "nbformat_minor": 2
}
